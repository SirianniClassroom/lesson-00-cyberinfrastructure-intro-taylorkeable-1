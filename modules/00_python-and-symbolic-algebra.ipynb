{
 "cells": [
  {
   "cell_type": "markdown",
   "id": "ca21e932-3359-480b-9737-fababccedb33",
   "metadata": {},
   "source": [
    "Lesson 0.1: How will we use the Python programming language in CHE 303/L?\n",
    "===\n",
    "\n",
    "Part of why physical chemistry is so challenging to learn is because it describes chemical phenomena in terms of the physical laws which govern them in the language of mathematics, which can feel like studying abroad in a country whose language is not your own and still trying to learn. While using mathematics is a necessary part of _doing_ physical chemistry, this semester we will develop various _cyberinfrastructure skills_ that will lower the barrier to learning physical chemistry by helping us to  \"speak\" mathematics without first needing to become fluent ourselves. Many of these skills will be developed along the way, but let's start with some basics and work through a few specific examples that showcase the power of this approach.\n",
    "\n",
    "## Learning Outcomes\n",
    "At the end of this lesson, students will be able to...\n",
    "1. Assign values to variables\n",
    "2. Use the `print()` function to check how code is working\n",
    "3. Use a `for` loop to perform actions on `list` items and add new items with `.append()`\n",
    "4. Define algebraic variables and expressions using the `algebra_with_sympy` library\n",
    "5. Manipulate algebraic expressions to solve for a single variable\n",
    "6. Substitute numerical values and units into algebraic expressions\n",
    "\n",
    "## Prerequisites\n",
    "Students are not expected to have any coding background, however the examples we will be using to develop the above cyberinfrastructure skills are built on gas law examples from CHE 110.\n",
    "\n",
    "## Resources\n",
    "- [MolSSI Workshop: Python Scripting for Computational Molecular Sciences](https://education.molssi.org/python_scripting_cms/)\n",
    "- [MolSSI CMS Python Workshop: Introduction](https://education.molssi.org/python_scripting_cms/01-introduction/index.html)\n",
    "- [Algebra with SymPy Documentation](https://gutow.github.io/Algebra_with_Sympy/algebra_with_sympy.html)\n",
    "- [Demonstrations of `algebra_with_sympy` functionality with the `Equation` class](https://gutow.github.io/Algebra_with_Sympy/Demonstration%20of%20equation%20class.html)\n",
    "\n",
    "## References\n",
    "Portions of this lesson were adapted from: \n",
    "1. Ringer McDonald, A., & Nash, J. (2019). Python Data and Scripting Workshop for Computational Molecular Scientists (Version 2020.06.01). \n",
    "The Molecular Sciences Software Institute. https://doi.org/10.34974/MXV2-EA38\n",
    "2. [Algebra with SymPy Documentation](https://gutow.github.io/Algebra_with_Sympy/algebra_with_sympy.html)"
   ]
  },
  {
   "cell_type": "markdown",
   "id": "a3b455e7-e186-4459-97fc-a1ce49822c38",
   "metadata": {},
   "source": [
    "# I. Introduction to Python\n",
    "\n",
    "For this portion of the lesson, we will be using [this lesson](https://education.molssi.org/python_scripting_cms/01-introduction/index.html) from the Molecular Sciences Software Institute's \"Python Scripting for Computational Molecular Science\" workshop. If at any time you encounter an error or have a question, place your red sticky note on the back of your computer screen/monitor and Dr. Sirianni will be around to help troubleshoot.\n",
    "\n",
    "**Directions:** \n",
    "1. Navigate to the workshop linked above and follow along with the tutorial.\n",
    "2. In the \"Setting up your Jupyter notebooks\" section, you'll learn to change between Markdown cells (for formatted text) and Code cells (for runnable Python code). As you are following along with the tutorial, start each new section with a new Markdown cell that contains the section title as a subheading (with two pound symbols).\n",
    "    > **Note**: Jupyter notebooks (the file we're working in right now) have changed since the MolSSI workshop was written, so some menu items may be in different locations or the interface may look a little different than the images shown in the workshop page. If you have any questions, put up your red flag and Dr. Sirianni will be around to help.\n",
    "3. Whenever the tutorial has a purple callout box with the title \"Python,\" you should type its contents exactly in a new code cell, making sure your output matches the contents of the grey \"Output\" callout box.\n",
    "    > If a purple \"Python\" callout box is not accompanied by a grey \"Output\" callout, **do not type the contents of the Python box.** These Python callouts contain syntax examples that are not, themselves, executable code and will raise an error.\n",
    "4. When you come across a brown/orange \"Check your Understanding\" callout, try to imagine what the provided code will do and write it down in a new Markdown cell _before_ clicking on the tan \"Answer\" dropdown.\n",
    "5. When you come across a brown/orange \"Exercise\" callout, follow the prompt's directions _before_ clicking on the tan \"Solution\" dropdown."
   ]
  },
  {
   "cell_type": "markdown",
   "id": "dda681f6-2700-4e91-98d8-4b5639e296c0",
   "metadata": {},
   "source": [
    "# MolSSI Workshop\n",
    "## Introduction\n",
    "\n",
    "This lesson covers Python basics like variable creation and assignment and using the Jupyter notebook"
   ]
  },
  {
   "cell_type": "markdown",
   "id": "a54c5a25-8853-46aa-af3d-5a7ceab4a4a7",
   "metadata": {},
   "source": [
    "# II. Using the `algebra_with_sympy` Library for Symbolic Algebra\n",
    "\n",
    "For this portion of the lesson, we will be using the [Algebra with SymPy](https://gutow.github.io/Algebra_with_Sympy/algebra_with_sympy.html) library to perform the algebraic manipulations necessary to solve several General Chemistry (CHE 110/111)-level problems. While these problems can be easily solved longhand (i.e., using pen-and-paper and a scientific calculator), I implore you to _solve them entirely using Python_ because we will be using this tool once we need to use math that you **have not yet learned** to perform longhand.\n",
    "\n",
    "Directions: \n",
    "\n",
    "The first line of each Code cell below is commented with directions for the cell. Some examples include\n",
    "- `# EXECUTE: Explanatory text...`: Execute the cell by selecting it and typing the Shift and Enter keys.\n",
    "- `# YOUR TURN: Directions...`: Fill in the missing code in the cell according to the `Directions...` text.\n",
    "\n",
    "Perform the indicated actions on each cell to learn how to use `algebra_with_sympy`!"
   ]
  },
  {
   "cell_type": "code",
   "execution_count": 1,
   "id": "4f86406a",
   "metadata": {},
   "outputs": [
    {
     "name": "stdout",
     "output_type": "stream",
     "text": [
      "This notebook is running Algebra_with_Sympy version 1.1.2.\n"
     ]
    }
   ],
   "source": [
    "# EXECUTE: Import some packages that we will use later \n",
    "from algebra_with_sympy import * # Automatically imports sympy\n",
    "print(\"This notebook is running Algebra_with_Sympy version \" + str(algwsym_version)+\".\")"
   ]
  },
  {
   "cell_type": "code",
   "execution_count": 2,
   "id": "b2f5a520",
   "metadata": {},
   "outputs": [
    {
     "data": {
      "text/plain": [
       "10"
      ]
     },
     "execution_count": 2,
     "metadata": {},
     "output_type": "execute_result"
    }
   ],
   "source": [
    "3+7"
   ]
  },
  {
   "cell_type": "code",
   "execution_count": 3,
   "id": "37ad95cc",
   "metadata": {},
   "outputs": [],
   "source": [
    "deltaH = -541.5\n",
    "deltaS = 10.4\n",
    "temp = 298\n",
    "\n",
    "deltaG = deltaH - temp * deltaS"
   ]
  },
  {
   "cell_type": "code",
   "execution_count": 4,
   "id": "701a394e",
   "metadata": {},
   "outputs": [
    {
     "name": "stdout",
     "output_type": "stream",
     "text": [
      "-3640.7000000000003\n"
     ]
    }
   ],
   "source": [
    "print(deltaG)"
   ]
  },
  {
   "cell_type": "code",
   "execution_count": 9,
   "id": "1959c91b",
   "metadata": {},
   "outputs": [],
   "source": [
    "deltaG = deltaG + 1000"
   ]
  },
  {
   "cell_type": "code",
   "execution_count": 10,
   "id": "45830237",
   "metadata": {},
   "outputs": [
    {
     "data": {
      "text/plain": [
       "-2640.7000000000003"
      ]
     },
     "execution_count": 10,
     "metadata": {},
     "output_type": "execute_result"
    }
   ],
   "source": [
    "deltaG"
   ]
  },
  {
   "cell_type": "markdown",
   "id": "4168309b",
   "metadata": {},
   "source": [
    "# Data Types"
   ]
  },
  {
   "cell_type": "code",
   "execution_count": 16,
   "id": "d638ab61",
   "metadata": {},
   "outputs": [
    {
     "data": {
      "text/plain": [
       "float"
      ]
     },
     "execution_count": 16,
     "metadata": {},
     "output_type": "execute_result"
    }
   ],
   "source": [
    "type(deltaG)"
   ]
  },
  {
   "cell_type": "code",
   "execution_count": 17,
   "id": "a193f416",
   "metadata": {},
   "outputs": [
    {
     "data": {
      "text/plain": [
       "str"
      ]
     },
     "execution_count": 17,
     "metadata": {},
     "output_type": "execute_result"
    }
   ],
   "source": [
    "deltaG_string = str(deltaG)\n",
    "type(deltaG_string)"
   ]
  },
  {
   "cell_type": "markdown",
   "id": "e25ee990",
   "metadata": {},
   "source": [
    "# Lists"
   ]
  },
  {
   "cell_type": "code",
   "execution_count": 20,
   "id": "789c7e15",
   "metadata": {},
   "outputs": [
    {
     "data": {
      "text/plain": [
       "4"
      ]
     },
     "execution_count": 20,
     "metadata": {},
     "output_type": "execute_result"
    }
   ],
   "source": [
    "#This is a list\n",
    "energy_kcal = [-13.4, -2.7, 5.4, 42.1]\n",
    "# I can determine its length\n",
    "len(energy_kcal)"
   ]
  },
  {
   "cell_type": "code",
   "execution_count": 21,
   "id": "f73f54cc",
   "metadata": {},
   "outputs": [
    {
     "data": {
      "text/plain": [
       "-13.4"
      ]
     },
     "execution_count": 21,
     "metadata": {},
     "output_type": "execute_result"
    }
   ],
   "source": [
    "#Print the first element of the list\n",
    "energy_kcal[0]"
   ]
  },
  {
   "cell_type": "code",
   "execution_count": 24,
   "id": "968faf94",
   "metadata": {},
   "outputs": [
    {
     "data": {
      "text/plain": [
       "42.1"
      ]
     },
     "execution_count": 24,
     "metadata": {},
     "output_type": "execute_result"
    }
   ],
   "source": [
    "energy_kcal[-1]"
   ]
  },
  {
   "cell_type": "code",
   "execution_count": 23,
   "id": "3b7ac27b",
   "metadata": {},
   "outputs": [
    {
     "name": "stdout",
     "output_type": "stream",
     "text": [
      "-11.296800000000001\n"
     ]
    }
   ],
   "source": [
    "#Convert the second list element to kilojoules\n",
    "energy_kilojoules = energy_kcal[1]* 4.184\n",
    "print(energy_kilojoules)"
   ]
  },
  {
   "cell_type": "markdown",
   "id": "21e12d91",
   "metadata": {},
   "source": [
    "# Slices"
   ]
  },
  {
   "cell_type": "code",
   "execution_count": 25,
   "id": "35841fea",
   "metadata": {},
   "outputs": [
    {
     "data": {
      "text/plain": [
       "[-2.7, 5.4]"
      ]
     },
     "execution_count": 25,
     "metadata": {},
     "output_type": "execute_result"
    }
   ],
   "source": [
    "energy_kcal[1:3]"
   ]
  },
  {
   "cell_type": "code",
   "execution_count": 26,
   "id": "c77236d9",
   "metadata": {},
   "outputs": [
    {
     "data": {
      "text/plain": [
       "[-13.4, -2.7, 5.4]"
      ]
     },
     "execution_count": 26,
     "metadata": {},
     "output_type": "execute_result"
    }
   ],
   "source": [
    "energy_kcal[:3]"
   ]
  },
  {
   "cell_type": "code",
   "execution_count": 27,
   "id": "7b59badf",
   "metadata": {},
   "outputs": [
    {
     "data": {
      "text/plain": [
       "[-2.7, 5.4, 42.1]"
      ]
     },
     "execution_count": 27,
     "metadata": {},
     "output_type": "execute_result"
    }
   ],
   "source": [
    "energy_kcal[1:]"
   ]
  },
  {
   "cell_type": "code",
   "execution_count": 28,
   "id": "3d43ef99",
   "metadata": {},
   "outputs": [
    {
     "data": {
      "text/plain": [
       "[-13.4, -2.7, 5.4, 42.1]"
      ]
     },
     "execution_count": 28,
     "metadata": {},
     "output_type": "execute_result"
    }
   ],
   "source": [
    "energy_kcal[:]"
   ]
  },
  {
   "cell_type": "markdown",
   "id": "b1b2d2c6",
   "metadata": {},
   "source": [
    "# For Loops"
   ]
  },
  {
   "cell_type": "code",
   "execution_count": 29,
   "id": "d24962fb",
   "metadata": {},
   "outputs": [
    {
     "name": "stdout",
     "output_type": "stream",
     "text": [
      "-56.0656\n",
      "-11.296800000000001\n",
      "22.593600000000002\n",
      "176.1464\n"
     ]
    }
   ],
   "source": [
    "for kcal in energy_kcal:\n",
    "    print(kcal * 4.184)"
   ]
  },
  {
   "cell_type": "code",
   "execution_count": 32,
   "id": "99ea89e2",
   "metadata": {},
   "outputs": [
    {
     "data": {
      "text/plain": [
       "[-56.0656, -11.296800000000001, 22.593600000000002, 176.1464]"
      ]
     },
     "execution_count": 32,
     "metadata": {},
     "output_type": "execute_result"
    }
   ],
   "source": [
    "energy_kJ = []\n",
    "for kcal in energy_kcal:\n",
    "    energy_kJ.append(kcal * 4.184)\n",
    "\n",
    "energy_kJ"
   ]
  },
  {
   "cell_type": "markdown",
   "id": "72b378f9",
   "metadata": {},
   "source": [
    "# Logic Statements"
   ]
  },
  {
   "cell_type": "code",
   "execution_count": 45,
   "id": "d301f3d8",
   "metadata": {},
   "outputs": [
    {
     "name": "stdout",
     "output_type": "stream",
     "text": [
      "[-56.0656, -11.296800000000001]\n"
     ]
    }
   ],
   "source": [
    "negative_energy_kJ = []\n",
    "\n",
    "for number in energy_kJ:\n",
    "    if number < 0:\n",
    "        negative_energy_kJ.append(number)\n",
    "print(negative_energy_kJ)"
   ]
  },
  {
   "cell_type": "code",
   "execution_count": 46,
   "id": "fcec5077",
   "metadata": {},
   "outputs": [
    {
     "name": "stdout",
     "output_type": "stream",
     "text": [
      "[-56.0656, -11.296800000000001]\n"
     ]
    }
   ],
   "source": [
    "negative_numbers = []\n",
    "for number in energy_kJ:\n",
    "    if number < 0 or number  ==0:\n",
    "        negative_numbers.append(number)\n",
    "print(negative_numbers)"
   ]
  },
  {
   "cell_type": "code",
   "execution_count": 51,
   "id": "a3454af6",
   "metadata": {},
   "outputs": [
    {
     "name": "stdout",
     "output_type": "stream",
     "text": [
      "[-12.5, 14.4, 8.1, 42.0]\n"
     ]
    }
   ],
   "source": [
    "data_list = ['-12.5', 14.4, 8.1, '42']\n",
    "number_list = []\n",
    "for item in data_list:\n",
    "    if type(item) is str:\n",
    "        item = float(item)\n",
    "    number_list.append(item)\n",
    "print(number_list)"
   ]
  },
  {
   "cell_type": "markdown",
   "id": "8b0ca2f8-e3e3-4788-b4c2-ef33bcd0205b",
   "metadata": {},
   "source": [
    "## Defining Mathematical Variables & Equations\n",
    "\n",
    "For example, let's say we wanted to solve a problem using the ideal gas law, $PV=nRT$. Just like we had to define our Python variables before using them to perform operations, we have to first declare the symbols that we're using for _mathematical variables_ before using them to build our `algebra_with_sympy` equations. To declare our math variables, use the `var()` function:\n",
    "```python\n",
    "# Pass a string containing a space-separated list of symbols to the var() function\n",
    "var('a b c d')\n",
    "```\n",
    "> **Note**: Using the `var()` function to declare math variables _is not a Python assignment statement_, and shouldn't have an equals sign!\n",
    "\n",
    "In the cell below, declare all of the math variables -- including any physical variables and constants -- that appear in the Ideal Gas Law."
   ]
  },
  {
   "cell_type": "code",
   "execution_count": 33,
   "id": "504b31cc-1ebd-48db-8765-f733961ed3c4",
   "metadata": {},
   "outputs": [
    {
     "data": {
      "text/plain": [
       "(a, b, c, d)"
      ]
     },
     "execution_count": 33,
     "metadata": {},
     "output_type": "execute_result"
    }
   ],
   "source": [
    "# YOUR TURN: Declare ideal gas law variables using `var()`\n",
    "var('a b c d')"
   ]
  },
  {
   "cell_type": "markdown",
   "id": "298b4b41-6940-4d0b-8d78-9524d7850c99",
   "metadata": {},
   "source": [
    "Now that our variables and constants have been declared, we can use them to define an algebraic expression. Each expression gets defined as an `Equation` object in `algebra_with_sympy`, with the syntax\n",
    "```python\n",
    "var('a b c')\n",
    "eqn_name =@ a = b / c\n",
    "```\n",
    "This reads just like a normal Python assignment statement, but uses the `=@` symbol to assign the $a = \\frac{b}{c}$ `Equation` object to the Python variable named `eqn_name` because, in general, `Equation` objects can contain an equals sign (which, recall, is the symbol used to assign a value to a Python variable).\n",
    "\n",
    "> **NOTE**: When two variables are multiplied, you *must explicitly write out the multiplication* using the `*` symbol. Otherwise, `algebra_with_sympy` will think you're trying to use an undefined math variable!\n",
    "\n",
    "In the cell below, create a Python variable called `ideal_gas` and assign to it an `Equation` object which defines the ideal gas law using\n",
    "the math variables you've already declared."
   ]
  },
  {
   "cell_type": "code",
   "execution_count": 35,
   "id": "e998b56f-53f5-402b-9f98-55cab3f2d1c0",
   "metadata": {},
   "outputs": [
    {
     "data": {
      "text/latex": [
       "$P V=R T n\\,\\,\\,\\,\\,\\,\\,\\,\\,\\,$(ideal_gas)"
      ],
      "text/plain": [
       "Equation(P*V, R*T*n)"
      ]
     },
     "execution_count": 35,
     "metadata": {},
     "output_type": "execute_result"
    }
   ],
   "source": [
    "# YOUR TURN: Assign the ideal gas law Equation object to a Python variable\n",
    "var('P V n R T')\n",
    "ideal_gas =@ P*V = n*R*T \n",
    "# Print it out with the `print()` function\n",
    "ideal_gas"
   ]
  },
  {
   "cell_type": "markdown",
   "id": "093c4fcb-2397-4a1e-a053-0a7b8fcd8acc",
   "metadata": {},
   "source": [
    "Looking at the output, you might notice two things that make you nervous, but never fear.\n",
    "1. The order of the multiplication might be different than the way you defined it\n",
    "    - If your multipilcation order is different than you defined it, don't worry --- multiplication is _associative_, meaning that the order of multiplication does not effect the final value. In other words, $5\\times 3 = 3\\times 5 = 15$.\n",
    "2. The `print()` function has a monospace output which isn't all that pretty to look at.\n",
    "    - Since we're using a Jupyter notebook, however, we can simply type the name of the variable on the last line of the cell and Jupyter will render it using math formatting that is much easier to look at, especially for more complicated expressions. \n",
    "\n",
    "In the cell below, have Jupyter pretty format our ideal gas law equation."
   ]
  },
  {
   "cell_type": "code",
   "execution_count": 36,
   "id": "e8168271-cb73-4378-a1c4-6af7bc248616",
   "metadata": {},
   "outputs": [
    {
     "name": "stdout",
     "output_type": "stream",
     "text": [
      "P*V = R*T*n\n"
     ]
    }
   ],
   "source": [
    "# YOUR TURN: Type the Python variable name for the ideal gas law Equation to pretty print\n",
    "print(ideal_gas)"
   ]
  },
  {
   "cell_type": "markdown",
   "id": "ef2e3844-ee30-4c60-a5b1-7121be53b9ee",
   "metadata": {},
   "source": [
    "## Rearranging Equations\n",
    "\n",
    "Now that we have defined our ideal gas law as an `Equation` object rand assigned it to a Python variable `ideal_gas`, what if we want to rearrange the equation to solve for a particular math variable? For example, to solve the expression $c = ln$ for $n$ would require us to divide both sides of the equation by $l$:\n",
    "$$c = ln \\Rightarrow \\frac{c}{l} = \\frac{ln}{n} \\Rightarrow n = \\frac{c}{l}$$\n",
    "To perform this manipulation using `algebra_with_sympy`, we can simply divide the entire `Equation` object by the math variable `l`.\n",
    "\n",
    "Input:\n",
    "```python\n",
    "var('c l n')\n",
    "eq1 =@ c = l*n\n",
    "eq1 / l\n",
    "```\n",
    "\n",
    "Output:\n",
    "* $\\frac{c}{l} = n$\n",
    "\n",
    "In the cell below, rearrange your ideal gas law for the pressure $P$ and assign your new `Equation` to the Python variable `ideal_P`, before pretty printing it to verify you've done so successfully.\n",
    "> **NOTE**: If the `Equation` you're assigning to a Python variable doesn't contain an equals sign, then you should use `=` to assign the `Equation` to a Python variable rather than the `=@` symbol."
   ]
  },
  {
   "cell_type": "code",
   "execution_count": 38,
   "id": "4630944e-d645-46a9-9ff2-e11ba108d0ad",
   "metadata": {},
   "outputs": [
    {
     "data": {
      "text/latex": [
       "$P=\\frac{R T n}{V}\\,\\,\\,\\,\\,\\,\\,\\,\\,\\,$(ideal_P)"
      ],
      "text/plain": [
       "Equation(P, R*T*n/V)"
      ]
     },
     "execution_count": 38,
     "metadata": {},
     "output_type": "execute_result"
    }
   ],
   "source": [
    "# YOUR TURN: Solve ideal gas law for P, assign to new Python variable with `=`\n",
    "ideal_P = ideal_gas / V\n",
    "ideal_P"
   ]
  },
  {
   "cell_type": "markdown",
   "id": "3dd13689-411d-4042-acfb-436780bdb779",
   "metadata": {},
   "source": [
    "What if we actually needed to solve for the number of moles, $n$, instead of the pressure $P$? We can rearrange this new `Equation` object for $n$ by using order of operations and define a new `Equation` in a single line:\n",
    "```python\n",
    "ideal_P * V / R / T\n",
    "```\n",
    "would produce the output\n",
    "$$\\frac{PV}{RT} = n.$$\n",
    "In the cell below, rearrange `ideal_P` to solve for the temperature, $T$, and assign the new `Equation` to a Python variable `ideal_T`."
   ]
  },
  {
   "cell_type": "code",
   "execution_count": 44,
   "id": "e0f1f672-d370-4a34-af66-b149e4fb0418",
   "metadata": {},
   "outputs": [
    {
     "data": {
      "text/latex": [
       "$T=\\frac{P V}{R n}$"
      ],
      "text/plain": [
       "Equation(T, P*V/(R*n))"
      ]
     },
     "execution_count": 44,
     "metadata": {},
     "output_type": "execute_result"
    }
   ],
   "source": [
    "# YOUR TURN: Solve `ideal_P` for temperature, assign to new Python variable\n",
    "ideal_T = ideal_P * V / n / R\n",
    "ideal_T.swap"
   ]
  },
  {
   "cell_type": "markdown",
   "id": "c0bef4f7-2ab1-4204-8f35-937cdec4f100",
   "metadata": {},
   "source": [
    "While the expression above is not incorrect, it is a little weird that our newly isolated variable $T$ is on the right hand side (RHS) of our `Equation`, instead of the left hand side (LHS) where we're used to seeing it. If this bothers you, you can always use the `.swap()` method to flip the RHS and LHS of an `Equation`.\n",
    "\n",
    "Input:\n",
    "```python\n",
    "ideal_T.swap()\n",
    "```\n",
    "\n",
    "Output:\n",
    "$$ T = \\frac{PV}{Rn}$$"
   ]
  },
  {
   "cell_type": "markdown",
   "id": "ff1a8995-7a6a-4b54-b378-a932ecc36f6b",
   "metadata": {},
   "source": [
    "## Evaluating an `Equation` by Substituting Numbers and Units with `.subs()`\n",
    "\n",
    "Once you've rearranged your `Equation` to solve for the desired math variable, you may evaluate your `Equation` by substituting in values and units for the other math variables and constants. To do so, units must first be declared using the `units()` function, which behaves the same way as the `var()` function earlier. For example, to declare units of meters, seconds, and kilograms, you would type\n",
    "```python\n",
    "units('m s kg')\n",
    "```\n",
    "Once units have been declared, values and units can be substituted into our `Equation` object by passing a _Python dictionary_ (of type `dict`) to the `Equation.subs()` method. \n",
    "\n",
    ">#### Brief aside: Python Dictionaries\n",
    ">Python `dict`s are objects which associate values with keys that are used to \"look them up,\" and are defined by placing comma-separated `key: value` pairs inside curly braces like the following:\n",
    ">```python\n",
    ">new_dict = {'key_1': 'value 1', 'key_2': 'value 2', 'key_3': 3, 'key_4': ideal_T}\n",
    ">```\n",
    ">In general, a dictionary's keys should be defined as strings (type `str`), and behave like Python variables that only live inside the dictionary. The dictionary's values, on the other hand, can be any mixture of types (i.e., not all entries in the dictionary must be of the same type). To access the value associated with a particular key in the dictionary, you would use square brackets `[]`:\n",
    ">```python\n",
    ">print(new_dict[key_1])\n",
    ">\n",
    ">Output: 'value_1'\n",
    ">```\n",
    ">This is similar to accessing a member of a `list`, except instead of passing the member's index, you pass the name of the desired value's key inside the brackets.\n",
    "\n",
    "Now, let's evaluate the pressure of 1.00 mol of an ideal gas at 273 K in a 24.0 L vessel. After declaring your units, build a dictionary whose keys are the variables in your `Equation` to which we are substituting and whose values are the numerical value & units being substituted. For this example, this would look like\n",
    "```python\n",
    "units('L atm mol K')\n",
    "d = {R: 0.08206*L*atm/mol/K, T: 273*K, n: 1.00*mol, V: 24.0*L}\n",
    "ideal_P.subs(d)\n",
    "```\n",
    "which should yield the output\n",
    "$$P = 0.9334325atm$$\n",
    "\n",
    "In the cell below, determine the molar volume of an ideal gas at STP, i.e., the volume occupied by exactly 1 mol an ideal gas at 273.15 K and 1 bar of pressure.\n",
    ">**Hint**: Units declared with the `units()` function do not come with conversion factors! You will need to use the fact that 1 bar = 100 kPa and that 1 atm = 101.325 kPa."
   ]
  },
  {
   "cell_type": "code",
   "execution_count": 48,
   "id": "a6d7071a-4b9b-477b-ba47-976ee6fc51a0",
   "metadata": {},
   "outputs": [
    {
     "data": {
      "text/latex": [
       "$V=22.709691 L$"
      ],
      "text/plain": [
       "Equation(V, 22.709691*L)"
      ]
     },
     "execution_count": 48,
     "metadata": {},
     "output_type": "execute_result"
    }
   ],
   "source": [
    "# YOUR TURN: What is the molar volume of an ideal gas at STP?\n",
    "units('K bar L mol')\n",
    "# Hint: Convert your ideal gas constant to be in units of L*bar/mol/K\n",
    "# Ratm = 0.08206*L*atm/mol/K\n",
    "Rbar = 0.08314*L*bar/mol/K\n",
    "# Rearrange ideal gas law for V & define `ideal_V`\n",
    "ideal_V = ideal_gas / P\n",
    "# Substitute values to evaluate molar volume\n",
    "ideal_V.subs({P: 1*bar, T: 273.15*K, n: 1.00*mol, R: Rbar})"
   ]
  },
  {
   "cell_type": "markdown",
   "id": "c53fc0f3",
   "metadata": {},
   "source": [
    "### Solving Equations the Easy Way"
   ]
  },
  {
   "cell_type": "code",
   "execution_count": 50,
   "id": "84b3480f-a2c0-4e73-8563-dcd8420fa332",
   "metadata": {},
   "outputs": [
    {
     "data": {
      "text/latex": [
       "$\\left\\{x=0.0314091180284441, x=0.384295440985778 - 1.40529104422421 i, x=0.384295440985778 + 1.40529104422421 i\\right\\}$"
      ],
      "text/plain": [
       "FiniteSet(Equation(x, 0.0314091180284441), Equation(x, 0.384295440985778 - 1.40529104422421*I), Equation(x, 0.384295440985778 + 1.40529104422421*I))"
      ]
     },
     "execution_count": 50,
     "metadata": {},
     "output_type": "execute_result"
    }
   ],
   "source": [
    "# Define an ugly equation\n",
    "var('x')\n",
    "ugly =@ 15*x**3 - 12*x**2 + 32.2*x - 1 = 0\n",
    "\n",
    "solve(ugly, x)"
   ]
  },
  {
   "cell_type": "code",
   "execution_count": 61,
   "id": "09f80cbe",
   "metadata": {},
   "outputs": [
    {
     "data": {
      "text/latex": [
       "$\\left\\{v=0, v=\\frac{e^{2} \\epsilon_{0} \\pi^{2}}{2 h n}\\right\\}$"
      ],
      "text/plain": [
       "FiniteSet(Equation(v, 0), Equation(v, e**2*epsilon_0*pi**2/(2*h*n)))"
      ]
     },
     "execution_count": 61,
     "metadata": {},
     "output_type": "execute_result"
    }
   ],
   "source": [
    "var('e epsilon_0 m_e v n h pi')\n",
    "eqn =@ (e**2 / 4*pi*epsilon_0) * ((2*pi*m_e*v)/(n*h))**2 = m_e*v**2 * (2*pi*m_e*v/(n*h))\n",
    "velocity = solve(eqn,v)\n",
    "velocity"
   ]
  },
  {
   "cell_type": "markdown",
   "id": "ad1f7189",
   "metadata": {},
   "source": [
    "## Symbolic Calculus"
   ]
  },
  {
   "cell_type": "code",
   "execution_count": 62,
   "id": "c2f4ddfe",
   "metadata": {},
   "outputs": [
    {
     "data": {
      "text/latex": [
       "$\\left(5 - x\\right)^{2}$"
      ],
      "text/plain": [
       "(5 - x)**2"
      ]
     },
     "execution_count": 62,
     "metadata": {},
     "output_type": "execute_result"
    }
   ],
   "source": [
    "var('x')\n",
    "f = (5-x)**2\n",
    "f"
   ]
  },
  {
   "cell_type": "code",
   "execution_count": 63,
   "id": "611a0117",
   "metadata": {},
   "outputs": [
    {
     "data": {
      "text/latex": [
       "$2 x - 10$"
      ],
      "text/plain": [
       "2*x - 10"
      ]
     },
     "execution_count": 63,
     "metadata": {},
     "output_type": "execute_result"
    }
   ],
   "source": [
    "diff(f)"
   ]
  },
  {
   "cell_type": "code",
   "execution_count": 66,
   "id": "51308be4",
   "metadata": {},
   "outputs": [
    {
     "data": {
      "text/latex": [
       "$\\left\\{x=5\\right\\}$"
      ],
      "text/plain": [
       "FiniteSet(Equation(x, 5))"
      ]
     },
     "execution_count": 66,
     "metadata": {},
     "output_type": "execute_result"
    }
   ],
   "source": [
    "df = diff(f)\n",
    "to_solve =@ df = 0\n",
    "solve(to_solve,x)"
   ]
  },
  {
   "cell_type": "code",
   "execution_count": 67,
   "id": "146c6784",
   "metadata": {},
   "outputs": [
    {
     "data": {
      "text/latex": [
       "$\\left\\{x=5\\right\\}$"
      ],
      "text/plain": [
       "FiniteSet(Equation(x, 5))"
      ]
     },
     "execution_count": 67,
     "metadata": {},
     "output_type": "execute_result"
    }
   ],
   "source": [
    "to_solve =@ diff(f) = 0\n",
    "solve(to_solve, x)"
   ]
  },
  {
   "cell_type": "code",
   "execution_count": 68,
   "id": "38ccfe6e",
   "metadata": {},
   "outputs": [
    {
     "data": {
      "text/latex": [
       "$2 x y - z^{3} + \\cos{\\left(4 x z \\right)}$"
      ],
      "text/plain": [
       "2*x*y - z**3 + cos(4*x*z)"
      ]
     },
     "execution_count": 68,
     "metadata": {},
     "output_type": "execute_result"
    }
   ],
   "source": [
    "var('x y z')\n",
    "ugly2 = 2*x*y - z**3 + cos(4*z*x)\n",
    "ugly2"
   ]
  },
  {
   "cell_type": "code",
   "execution_count": 69,
   "id": "6b1f4f60",
   "metadata": {},
   "outputs": [
    {
     "data": {
      "text/latex": [
       "$2 x$"
      ],
      "text/plain": [
       "2*x"
      ]
     },
     "execution_count": 69,
     "metadata": {},
     "output_type": "execute_result"
    }
   ],
   "source": [
    "diff(ugly2, y)"
   ]
  },
  {
   "cell_type": "code",
   "execution_count": 70,
   "id": "d06486fa",
   "metadata": {},
   "outputs": [
    {
     "data": {
      "text/latex": [
       "$0$"
      ],
      "text/plain": [
       "0"
      ]
     },
     "execution_count": 70,
     "metadata": {},
     "output_type": "execute_result"
    }
   ],
   "source": [
    "diff(ugly2, y,2)"
   ]
  },
  {
   "cell_type": "code",
   "execution_count": 71,
   "id": "9e027d5c",
   "metadata": {},
   "outputs": [
    {
     "data": {
      "text/latex": [
       "$- 2 \\left(8 x^{2} \\cos{\\left(4 x z \\right)} + 3 z\\right)$"
      ],
      "text/plain": [
       "-2*(8*x**2*cos(4*x*z) + 3*z)"
      ]
     },
     "execution_count": 71,
     "metadata": {},
     "output_type": "execute_result"
    }
   ],
   "source": [
    "diff(ugly2, z, 2)"
   ]
  },
  {
   "cell_type": "code",
   "execution_count": 72,
   "id": "adc0b0c8",
   "metadata": {},
   "outputs": [
    {
     "data": {
      "text/latex": [
       "$64 x^{2} z \\sin{\\left(4 x z \\right)} - 32 x \\cos{\\left(4 x z \\right)}$"
      ],
      "text/plain": [
       "64*x**2*z*sin(4*x*z) - 32*x*cos(4*x*z)"
      ]
     },
     "execution_count": 72,
     "metadata": {},
     "output_type": "execute_result"
    }
   ],
   "source": [
    "dz2 = diff(ugly2, z, 2)\n",
    "diff(dz2, x)"
   ]
  },
  {
   "cell_type": "code",
   "execution_count": null,
   "id": "a0883626",
   "metadata": {},
   "outputs": [],
   "source": []
  }
 ],
 "metadata": {
  "kernelspec": {
   "display_name": "Python 3 (ipykernel)",
   "language": "python",
   "name": "python3"
  },
  "language_info": {
   "codemirror_mode": {
    "name": "ipython",
    "version": 3
   },
   "file_extension": ".py",
   "mimetype": "text/x-python",
   "name": "python",
   "nbconvert_exporter": "python",
   "pygments_lexer": "ipython3",
   "version": "3.8.10"
  }
 },
 "nbformat": 4,
 "nbformat_minor": 5
}
